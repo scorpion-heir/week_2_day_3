{
 "cells": [
  {
   "cell_type": "code",
   "execution_count": null,
   "metadata": {},
   "outputs": [],
   "source": [
    "class Cart():\n",
    "  def __init__(self, ):\n",
    "    self.cartitem = CartItem()\n",
    "  \n",
    "  def total_price(self):\n",
    "    self.price += price \n",
    "\n",
    "  def add_item(self, item):\n",
    "    Cart += self.item\n",
    "\n",
    "\n",
    "class CartItem():\n",
    "  def __init__(self):\n",
    "    self.category = input(\"what category? \")\n",
    "    self.name = input(\"what's the name of item? \")\n",
    "    self.price = input(\"what's the unit price? \")\n",
    "    self.list = f'<{self.category}:{self.name}:{self.price}>' \n"
   ]
  }
 ],
 "metadata": {
  "kernelspec": {
   "display_name": "Python 3",
   "language": "python",
   "name": "python3"
  },
  "language_info": {
   "codemirror_mode": {
    "name": "ipython",
    "version": 3
   },
   "file_extension": ".py",
   "mimetype": "text/x-python",
   "name": "python",
   "nbconvert_exporter": "python",
   "pygments_lexer": "ipython3",
   "version": "3.8.5"
  }
 },
 "nbformat": 4,
 "nbformat_minor": 4
}
